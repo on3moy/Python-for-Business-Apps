{
 "cells": [
  {
   "cell_type": "code",
   "execution_count": 9,
   "metadata": {},
   "outputs": [],
   "source": [
    "beans = {\n",
    "    'professor': 'Moy'\n",
    "    ,'student': 'Stephanie'\n",
    "}"
   ]
  },
  {
   "cell_type": "code",
   "execution_count": 10,
   "metadata": {},
   "outputs": [],
   "source": [
    "del beans['professor']"
   ]
  },
  {
   "cell_type": "code",
   "execution_count": 13,
   "metadata": {},
   "outputs": [
    {
     "data": {
      "text/plain": [
       "dict_values(['Stephanie'])"
      ]
     },
     "execution_count": 13,
     "metadata": {},
     "output_type": "execute_result"
    }
   ],
   "source": [
    "beans.values()"
   ]
  },
  {
   "cell_type": "code",
   "execution_count": 17,
   "metadata": {},
   "outputs": [
    {
     "name": "stdout",
     "output_type": "stream",
     "text": [
      "Hi my name is John Doe. purple is my favorite color\n",
      "Hi my name is John Doe. purple is my favorite color\n"
     ]
    }
   ],
   "source": [
    "# Create variables with text\n",
    "student = 'John Doe'\n",
    "color = 'purple'\n",
    "\n",
    "# The old way of formatting using {} and format method\n",
    "print('Hi my name is {}. {} is my favorite color'.format(student, color))\n",
    "\n",
    "# The new way, use this. You can see its more intuitive and easy to follow\n",
    "print(f'Hi my name is {student}. {color} is my favorite color')\n",
    "\n",
    "# Did you notice the only way to bring in data into a string is by using {}?"
   ]
  },
  {
   "cell_type": "code",
   "execution_count": null,
   "metadata": {},
   "outputs": [],
   "source": []
  }
 ],
 "metadata": {
  "kernelspec": {
   "display_name": ".venv",
   "language": "python",
   "name": "python3"
  },
  "language_info": {
   "codemirror_mode": {
    "name": "ipython",
    "version": 3
   },
   "file_extension": ".py",
   "mimetype": "text/x-python",
   "name": "python",
   "nbconvert_exporter": "python",
   "pygments_lexer": "ipython3",
   "version": "3.12.5"
  }
 },
 "nbformat": 4,
 "nbformat_minor": 2
}

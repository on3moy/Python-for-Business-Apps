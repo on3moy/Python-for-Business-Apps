{
 "cells": [
  {
   "cell_type": "markdown",
   "metadata": {},
   "source": [
    "# Lets Learn how to create Classes\n",
    "class ClassRoom: is the same as class ClassRoom():"
   ]
  },
  {
   "cell_type": "code",
   "execution_count": 232,
   "metadata": {},
   "outputs": [],
   "source": [
    "# First, lets create a classroom class without any inheritance \n",
    "class ClassRoom:\n",
    "    # This is a class attribute that will be available to all instances created.\n",
    "    ClassType = 'IS 640 Business Application Programming'\n",
    "\n",
    "    # This is where we create instance attributes\n",
    "    def __init__(self, student):\n",
    "        # We assign the student attribute the student\n",
    "        self.student = student\n",
    "\n",
    "    # This is a cool function that python recognizes __repr__. \n",
    "    # It allows us to tell python what to do when we print() the class\n",
    "    def __repr__(self) -> str:\n",
    "        return f'Class: {self.ClassType}\\nstudent: {self.student}\\n'"
   ]
  },
  {
   "cell_type": "code",
   "execution_count": 233,
   "metadata": {},
   "outputs": [
    {
     "data": {
      "text/plain": [
       "'IS 640 Business Application Programming'"
      ]
     },
     "execution_count": 233,
     "metadata": {},
     "output_type": "execute_result"
    }
   ],
   "source": [
    "ClassRoom.ClassType"
   ]
  },
  {
   "cell_type": "code",
   "execution_count": 234,
   "metadata": {},
   "outputs": [],
   "source": [
    "student_1 = ClassRoom(student='Harry')\n",
    "student_2 = ClassRoom(student='Hermione')"
   ]
  },
  {
   "cell_type": "code",
   "execution_count": 235,
   "metadata": {},
   "outputs": [
    {
     "name": "stdout",
     "output_type": "stream",
     "text": [
      "Class: IS 640 Business Application Programming\n",
      "student: Harry\n",
      "\n",
      "Class: IS 640 Business Application Programming\n",
      "student: Hermione\n",
      "\n"
     ]
    }
   ],
   "source": [
    "print(student_1)\n",
    "print(student_2)"
   ]
  },
  {
   "cell_type": "code",
   "execution_count": 236,
   "metadata": {},
   "outputs": [],
   "source": [
    "# I am changing the class type will will affect ALL Instances\n",
    "ClassRoom.ClassType = 'Defense Against the Dark Arts'"
   ]
  },
  {
   "cell_type": "code",
   "execution_count": 237,
   "metadata": {},
   "outputs": [
    {
     "name": "stdout",
     "output_type": "stream",
     "text": [
      "Class: Defense Against the Dark Arts\n",
      "student: Harry\n",
      "\n",
      "Class: Defense Against the Dark Arts\n",
      "student: Hermione\n",
      "\n"
     ]
    }
   ],
   "source": [
    "print(student_1)\n",
    "print(student_2)"
   ]
  },
  {
   "cell_type": "code",
   "execution_count": 238,
   "metadata": {},
   "outputs": [],
   "source": [
    "# Modify the instance attribute\n",
    "student_1.student = 'Harry Potter'"
   ]
  },
  {
   "cell_type": "code",
   "execution_count": 239,
   "metadata": {},
   "outputs": [
    {
     "name": "stdout",
     "output_type": "stream",
     "text": [
      "Class: Defense Against the Dark Arts\n",
      "student: Harry Potter\n",
      "\n"
     ]
    }
   ],
   "source": [
    "print(student_1)"
   ]
  },
  {
   "cell_type": "markdown",
   "metadata": {},
   "source": [
    "# Lets alter the class Classroom to add students!"
   ]
  },
  {
   "cell_type": "code",
   "execution_count": 240,
   "metadata": {},
   "outputs": [],
   "source": [
    "class ClassRoom:\n",
    "    ClassType = 'IS 640 Business Application Programming'\n",
    "\n",
    "    def __init__(self):\n",
    "        # Keep a list a students here\n",
    "        self.students = []\n",
    "\n",
    "    # Create a function to add students\n",
    "    def add_student(self, student):\n",
    "        self.students.append(student)\n",
    "    \n",
    "    # Define how you want to print statement to output your class\n",
    "    def __repr__(self) -> str:\n",
    "        the_output = f'Classroom: {self.ClassType}\\nStudents: {', '.join(self.students)}'\n",
    "        return the_output\n",
    "\n"
   ]
  },
  {
   "cell_type": "code",
   "execution_count": 241,
   "metadata": {},
   "outputs": [],
   "source": [
    "classroom = ClassRoom()"
   ]
  },
  {
   "cell_type": "code",
   "execution_count": 242,
   "metadata": {},
   "outputs": [
    {
     "name": "stdout",
     "output_type": "stream",
     "text": [
      "Classroom: IS 640 Business Application Programming\n",
      "Students: \n"
     ]
    }
   ],
   "source": [
    "print(ClassRoom())"
   ]
  },
  {
   "cell_type": "code",
   "execution_count": 243,
   "metadata": {},
   "outputs": [],
   "source": [
    "classroom.add_student('Mr.Moy')"
   ]
  },
  {
   "cell_type": "code",
   "execution_count": 244,
   "metadata": {},
   "outputs": [
    {
     "name": "stdout",
     "output_type": "stream",
     "text": [
      "Classroom: IS 640 Business Application Programming\n",
      "Students: Mr.Moy\n"
     ]
    }
   ],
   "source": [
    "print(classroom)"
   ]
  },
  {
   "cell_type": "code",
   "execution_count": 245,
   "metadata": {},
   "outputs": [],
   "source": [
    "classroom.add_student('John')"
   ]
  },
  {
   "cell_type": "code",
   "execution_count": 246,
   "metadata": {},
   "outputs": [
    {
     "name": "stdout",
     "output_type": "stream",
     "text": [
      "Classroom: IS 640 Business Application Programming\n",
      "Students: Mr.Moy, John\n"
     ]
    }
   ],
   "source": [
    "print(classroom)"
   ]
  }
 ],
 "metadata": {
  "kernelspec": {
   "display_name": ".venv",
   "language": "python",
   "name": "python3"
  },
  "language_info": {
   "codemirror_mode": {
    "name": "ipython",
    "version": 3
   },
   "file_extension": ".py",
   "mimetype": "text/x-python",
   "name": "python",
   "nbconvert_exporter": "python",
   "pygments_lexer": "ipython3",
   "version": "3.12.5"
  }
 },
 "nbformat": 4,
 "nbformat_minor": 2
}
